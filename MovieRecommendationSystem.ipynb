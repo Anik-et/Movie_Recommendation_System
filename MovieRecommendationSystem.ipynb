{
  "nbformat": 4,
  "nbformat_minor": 0,
  "metadata": {
    "colab": {
      "provenance": [],
      "include_colab_link": true
    },
    "kernelspec": {
      "name": "python3",
      "display_name": "Python 3"
    }
  },
  "cells": [
    {
      "cell_type": "markdown",
      "metadata": {
        "id": "view-in-github",
        "colab_type": "text"
      },
      "source": [
        "<a href=\"https://colab.research.google.com/github/Anik-et/Movie_Recommendation_System/blob/main/MovieRecommendationSystem.ipynb\" target=\"_parent\"><img src=\"https://colab.research.google.com/assets/colab-badge.svg\" alt=\"Open In Colab\"/></a>"
      ]
    },
    {
      "cell_type": "markdown",
      "metadata": {
        "id": "r3cas2_1T98w"
      },
      "source": [
        "#Movie Recommendation System"
      ]
    },
    {
      "cell_type": "markdown",
      "metadata": {
        "id": "IODliia6U1xO"
      },
      "source": [
        "### Importing the basic libraries"
      ]
    },
    {
      "cell_type": "code",
      "metadata": {
        "id": "y98nA5UdU6Hf"
      },
      "source": [
        "import numpy as np\n",
        "import pandas as pd"
      ],
      "execution_count": 4,
      "outputs": []
    },
    {
      "cell_type": "markdown",
      "metadata": {
        "id": "jpjZ43YlU8eI"
      },
      "source": [
        "### Importing & Parsing the dataset as ratings and movies details"
      ]
    },
    {
      "cell_type": "code",
      "metadata": {
        "id": "pLVaXoYVU_Uy",
        "colab": {
          "base_uri": "https://localhost:8080/"
        },
        "outputId": "afe1a194-7fd3-4255-c757-4df25ec117a2"
      },
      "source": [
        "ratingData = pd.io.parsers.read_csv('ratings.dat',\n",
        "    names=['user_id', 'movie_id', 'rating', 'time'],\n",
        "    engine='python', delimiter='::',encoding='ISO-8859-1')\n",
        "movieData = pd.io.parsers.read_csv('movies.dat',\n",
        "    names=['movie_id', 'title', 'genre'],\n",
        "    engine='python', delimiter='::',encoding='ISO-8859-1')\n",
        "print(ratingData)"
      ],
      "execution_count": 8,
      "outputs": [
        {
          "output_type": "stream",
          "name": "stdout",
          "text": [
            "         user_id  movie_id  rating       time\n",
            "0              1      1193       5  978300760\n",
            "1              1       661       3  978302109\n",
            "2              1       914       3  978301968\n",
            "3              1      3408       4  978300275\n",
            "4              1      2355       5  978824291\n",
            "...          ...       ...     ...        ...\n",
            "1000204     6040      1091       1  956716541\n",
            "1000205     6040      1094       5  956704887\n",
            "1000206     6040       562       5  956704746\n",
            "1000207     6040      1096       4  956715648\n",
            "1000208     6040      1097       4  956715569\n",
            "\n",
            "[1000209 rows x 4 columns]\n"
          ]
        }
      ]
    },
    {
      "cell_type": "markdown",
      "metadata": {
        "id": "fLBaNX8cVymm"
      },
      "source": [
        "### Create the ratings matrix of shape (m×u)"
      ]
    },
    {
      "cell_type": "code",
      "metadata": {
        "id": "lBgHJ6c7gDn2",
        "colab": {
          "base_uri": "https://localhost:8080/"
        },
        "outputId": "aaa681f5-3d77-4b47-8fd7-498e9d6b9239"
      },
      "source": [
        "ratingMatrix = np.ndarray(\n",
        "    shape=(np.max(ratingData.movie_id.values), np.max(ratingData.user_id.values)),\n",
        "    dtype=np.uint8)\n",
        "ratingMatrix[ratingData.movie_id.values-1, ratingData.user_id.values-1] = ratingData.rating.values\n",
        "print(ratingMatrix)"
      ],
      "execution_count": 9,
      "outputs": [
        {
          "output_type": "stream",
          "name": "stdout",
          "text": [
            "[[  5 219 141 ...  39 205   3]\n",
            " [  0   0   0 ...  39 205  65]\n",
            " [  0   0   0 ...  41 205  65]\n",
            " ...\n",
            " [192  82 149 ... 126   0   0]\n",
            " [  0 136 152 ... 126   0   0]\n",
            " [ 64 253 155 ... 126   0   0]]\n"
          ]
        }
      ]
    },
    {
      "cell_type": "markdown",
      "metadata": {
        "id": "n90Tb_w9V-vn"
      },
      "source": [
        "### Subtract Mean off - Normalization"
      ]
    },
    {
      "cell_type": "code",
      "metadata": {
        "id": "pm6q3gWXgG_1",
        "colab": {
          "base_uri": "https://localhost:8080/"
        },
        "outputId": "8b2ecbfb-abd1-4221-ab1b-dc575be7e673"
      },
      "source": [
        "normalizedMatrix = ratingMatrix - np.asarray([(np.mean(ratingMatrix, 1))]).T\n",
        "print(normalizedMatrix)"
      ],
      "execution_count": 10,
      "outputs": [
        {
          "output_type": "stream",
          "name": "stdout",
          "text": [
            "[[ -48.76506623  165.23493377   87.23493377 ...  -14.76506623\n",
            "   151.23493377  -50.76506623]\n",
            " [ -63.70612583  -63.70612583  -63.70612583 ...  -24.70612583\n",
            "   141.29387417    1.29387417]\n",
            " [ -74.61854305  -74.61854305  -74.61854305 ...  -33.61854305\n",
            "   130.38145695   -9.61854305]\n",
            " ...\n",
            " [  91.69039735  -18.30960265   48.69039735 ...   25.69039735\n",
            "  -100.30960265 -100.30960265]\n",
            " [-100.35827815   35.64172185   51.64172185 ...   25.64172185\n",
            "  -100.35827815 -100.35827815]\n",
            " [ -28.90794702  160.09205298   62.09205298 ...   33.09205298\n",
            "   -92.90794702  -92.90794702]]\n"
          ]
        }
      ]
    },
    {
      "cell_type": "markdown",
      "metadata": {
        "id": "zoIEOorVTzD9"
      },
      "source": [
        "### Computing SVD"
      ]
    },
    {
      "cell_type": "code",
      "metadata": {
        "id": "wOuthXLlT0GI"
      },
      "source": [
        "A = normalizedMatrix.T / np.sqrt(ratingMatrix.shape[0] - 1)\n",
        "U, S, V = np.linalg.svd(A)"
      ],
      "execution_count": 12,
      "outputs": []
    },
    {
      "cell_type": "markdown",
      "metadata": {
        "id": "58ZB1rCZUVfH"
      },
      "source": [
        "### Calculate cosine similarity, sort by most similar and return the top N"
      ]
    },
    {
      "cell_type": "code",
      "metadata": {
        "id": "0K7mijvHUW6Z"
      },
      "source": [
        "def similar(ratingData, movie_id, top_n):\n",
        "    index = movie_id - 1 # Movie id starts from 1\n",
        "    movie_row = ratingData[index, :]\n",
        "    magnitude = np.sqrt(np.einsum('ij, ij -> i', ratingData, ratingData)) #Einstein summation |  traditional matrix multiplication and is equivalent to np.matmul(a,b)\n",
        "    similarity = np.dot(movie_row, ratingData.T) / (magnitude[index] * magnitude)\n",
        "    sort_indexes = np.argsort(-similarity) #Perform an indirect sort along the given axis (Last axis)\n",
        "    return sort_indexes[:top_n]"
      ],
      "execution_count": 13,
      "outputs": []
    },
    {
      "cell_type": "markdown",
      "metadata": {
        "id": "rTMd_brsUctX"
      },
      "source": [
        "### Select k principal components to represent the movies, a movie_id to find recommendations and print the top_n results"
      ]
    },
    {
      "cell_type": "code",
      "metadata": {
        "id": "PXDHbM4aUdvc",
        "colab": {
          "base_uri": "https://localhost:8080/"
        },
        "outputId": "9dba7570-cd49-420f-c2b6-c54e143c5735"
      },
      "source": [
        "k = 50\n",
        "movie_id = 2\n",
        "top_n = 5\n",
        "\n",
        "sliced = V.T[:, :k] # representative data\n",
        "indexes = similar(sliced, movie_id, top_n)\n",
        "\n",
        "print('Recommendations for Movie {0}: \\n'.format(\n",
        "movieData[movieData.movie_id == movie_id].title.values[0]))\n",
        "for id in indexes + 1:\n",
        "    print(movieData[movieData.movie_id == id].title.values[0])"
      ],
      "execution_count": 14,
      "outputs": [
        {
          "output_type": "stream",
          "name": "stdout",
          "text": [
            "Recommendations for Movie Jumanji (1995): \n",
            "\n",
            "Jumanji (1995)\n",
            "Beauty and the Beast (1991)\n",
            "Indian in the Cupboard, The (1995)\n",
            "Maverick (1994)\n",
            "Jungle Book, The (1994)\n"
          ]
        }
      ]
    }
  ]
}